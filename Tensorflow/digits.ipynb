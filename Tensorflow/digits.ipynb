{
 "cells": [
  {
   "cell_type": "code",
   "execution_count": 2,
   "metadata": {},
   "outputs": [
    {
     "name": "stderr",
     "output_type": "stream",
     "text": [
      "Using TensorFlow backend.\n"
     ]
    }
   ],
   "source": [
    "import numpy as np\n",
    "import pandas as pd\n",
    "import matplotlib.pyplot as plt\n",
    "import cv2\n",
    "import sklearn\n",
    "from sklearn.model_selection import train_test_split\n",
    "import tensorflow as tf\n",
    "from tensorflow import keras\n",
    "from tensorflow.keras.preprocessing.image import ImageDataGenerator\n",
    "from keras.preprocessing.image import ImageDataGenerator, load_img\n",
    "from keras.utils.np_utils import to_categorical\n",
    "from tensorflow.keras.models import Sequential\n",
    "from tensorflow.keras.layers import Activation, Dropout, Dense, Flatten, BatchNormalization, Conv2D, MaxPooling2D\n",
    "from tensorflow.keras.optimizers import RMSprop\n",
    "from tensorflow.keras import backend as K\n",
    "from tensorflow.keras.preprocessing import image\n",
    "import os, random\n",
    "from PIL import Image "
   ]
  },
  {
   "cell_type": "code",
   "execution_count": 3,
   "metadata": {},
   "outputs": [
    {
     "name": "stdout",
     "output_type": "stream",
     "text": [
      "Total Dataponits =  10160\n"
     ]
    }
   ],
   "source": [
    "data = os.listdir(r\"Digits\" )\n",
    "data_X = []     \n",
    "data_y = []  \n",
    "data_classes = len(data)\n",
    "for i in range (0,data_classes):\n",
    "    data_list = os.listdir(r\"Digits\" +\"/\"+str(i))\n",
    "    for j in data_list:\n",
    "        pic = cv2.imread(r\"Digits\" +\"/\"+str(i)+\"/\"+j)\n",
    "        pic = cv2.resize(pic,(32,32))\n",
    "        data_X.append(pic)\n",
    "        data_y.append(i)\n",
    "\n",
    "         \n",
    "if len(data_X) == len(data_y) :\n",
    "    print(\"Total Dataponits = \",len(data_X))\n",
    "\n",
    "# Labels and images\n",
    "data_X = np.array(data_X)\n",
    "data_y = np.array(data_y)"
   ]
  },
  {
   "cell_type": "code",
   "execution_count": 4,
   "metadata": {},
   "outputs": [
    {
     "name": "stdout",
     "output_type": "stream",
     "text": [
      "Training Set Shape =  (7721, 32, 32, 3)\n",
      "Validation Set Shape =  (1931, 32, 32, 3)\n",
      "Test Set Shape =  (508, 32, 32, 3)\n"
     ]
    }
   ],
   "source": [
    "train_X, test_X, train_y, test_y = train_test_split(data_X,data_y,test_size=0.05)\n",
    "train_X, valid_X, train_y, valid_y = train_test_split(train_X,train_y,test_size=0.2)\n",
    "print(\"Training Set Shape = \",train_X.shape)\n",
    "print(\"Validation Set Shape = \",valid_X.shape)\n",
    "print(\"Test Set Shape = \",test_X.shape)"
   ]
  },
  {
   "cell_type": "code",
   "execution_count": 5,
   "metadata": {},
   "outputs": [],
   "source": [
    "def Prep(img):\n",
    "    img = cv2.cvtColor(img,cv2.COLOR_BGR2GRAY) #making image grayscale\n",
    "    img = cv2.equalizeHist(img) #Histogram equalization to enhance contrast\n",
    "    img = img/255 #normalizing\n",
    "    return img\n",
    "\n",
    "train_X = np.array(list(map(Prep, train_X)))\n",
    "test_X = np.array(list(map(Prep, test_X)))\n",
    "valid_X= np.array(list(map(Prep, valid_X)))\n",
    "\n",
    "#Reshaping the images\n",
    "train_X = train_X.reshape(train_X.shape[0], train_X.shape[1], train_X.shape[2],1)\n",
    "test_X = test_X.reshape(test_X.shape[0], test_X.shape[1], test_X.shape[2],1)\n",
    "valid_X = valid_X.reshape(valid_X.shape[0], valid_X.shape[1], valid_X.shape[2],1)\n",
    "\n",
    "#Augmentation\n",
    "datagen = ImageDataGenerator(width_shift_range=0.1, height_shift_range=0.1, zoom_range=0.2, shear_range=0.1, rotation_range=10)\n",
    "datagen.fit(train_X)"
   ]
  },
  {
   "cell_type": "code",
   "execution_count": 6,
   "metadata": {},
   "outputs": [],
   "source": [
    "train_y = to_categorical(train_y, data_classes)\n",
    "test_y = to_categorical(test_y, data_classes)\n",
    "valid_y = to_categorical(valid_y, data_classes)"
   ]
  },
  {
   "cell_type": "code",
   "execution_count": 7,
   "metadata": {},
   "outputs": [
    {
     "name": "stdout",
     "output_type": "stream",
     "text": [
      "WARNING:tensorflow:From /home/ec2-user/anaconda3/envs/amazonei_tensorflow_p36/lib/python3.6/site-packages/tensorflow_core/python/ops/resource_variable_ops.py:1630: calling BaseResourceVariable.__init__ (from tensorflow.python.ops.resource_variable_ops) with constraint is deprecated and will be removed in a future version.\n",
      "Instructions for updating:\n",
      "If using Keras pass *_constraint arguments to layers.\n",
      "Model: \"sequential\"\n",
      "_________________________________________________________________\n",
      "Layer (type)                 Output Shape              Param #   \n",
      "=================================================================\n",
      "conv2d (Conv2D)              (None, 32, 32, 60)        1560      \n",
      "_________________________________________________________________\n",
      "conv2d_1 (Conv2D)            (None, 32, 32, 60)        90060     \n",
      "_________________________________________________________________\n",
      "max_pooling2d (MaxPooling2D) (None, 16, 16, 60)        0         \n",
      "_________________________________________________________________\n",
      "conv2d_2 (Conv2D)            (None, 16, 16, 30)        16230     \n",
      "_________________________________________________________________\n",
      "conv2d_3 (Conv2D)            (None, 16, 16, 30)        8130      \n",
      "_________________________________________________________________\n",
      "max_pooling2d_1 (MaxPooling2 (None, 8, 8, 30)          0         \n",
      "_________________________________________________________________\n",
      "dropout (Dropout)            (None, 8, 8, 30)          0         \n",
      "_________________________________________________________________\n",
      "flatten (Flatten)            (None, 1920)              0         \n",
      "_________________________________________________________________\n",
      "dense (Dense)                (None, 500)               960500    \n",
      "_________________________________________________________________\n",
      "dropout_1 (Dropout)          (None, 500)               0         \n",
      "_________________________________________________________________\n",
      "dense_1 (Dense)              (None, 10)                5010      \n",
      "=================================================================\n",
      "Total params: 1,081,490\n",
      "Trainable params: 1,081,490\n",
      "Non-trainable params: 0\n",
      "_________________________________________________________________\n"
     ]
    }
   ],
   "source": [
    "model = Sequential()\n",
    "\n",
    "model.add((Conv2D(60,(5,5),input_shape=(32, 32, 1) ,padding = 'Same' ,activation='relu')))\n",
    "model.add((Conv2D(60, (5,5),padding=\"same\",activation='relu')))\n",
    "model.add(MaxPooling2D(pool_size=(2,2)))\n",
    "#model.add(Dropout(0.25))\n",
    "\n",
    "model.add((Conv2D(30, (3,3),padding=\"same\", activation='relu')))\n",
    "model.add((Conv2D(30, (3,3), padding=\"same\", activation='relu')))\n",
    "model.add(MaxPooling2D(pool_size=(2,2), strides=(2,2)))\n",
    "model.add(Dropout(0.5))\n",
    "\n",
    "model.add(Flatten())\n",
    "model.add(Dense(500,activation='relu'))\n",
    "model.add(Dropout(0.5))\n",
    "model.add(Dense(10, activation='softmax'))\n",
    "\n",
    "model.summary()\n"
   ]
  },
  {
   "cell_type": "code",
   "execution_count": 9,
   "metadata": {},
   "outputs": [
    {
     "name": "stdout",
     "output_type": "stream",
     "text": [
      "Epoch 1/30\n",
      "Epoch 1/30\n",
      "1931/200 - 5s - loss: 0.0816 - acc: 0.9808\n",
      "200/200 - 80s - loss: 0.4715 - acc: 0.8474 - val_loss: 0.0673 - val_acc: 0.9808\n",
      "Epoch 2/30\n",
      "Epoch 1/30\n",
      "1931/200 - 5s - loss: 0.0415 - acc: 0.9803\n",
      "200/200 - 81s - loss: 0.2407 - acc: 0.9261 - val_loss: 0.0603 - val_acc: 0.9803\n",
      "Epoch 3/30\n",
      "Epoch 1/30\n",
      "1931/200 - 5s - loss: 0.0462 - acc: 0.9762\n",
      "200/200 - 80s - loss: 0.1826 - acc: 0.9443 - val_loss: 0.0732 - val_acc: 0.9762\n",
      "Epoch 4/30\n",
      "Epoch 1/30\n",
      "1931/200 - 5s - loss: 0.0196 - acc: 0.9865\n",
      "200/200 - 86s - loss: 0.1514 - acc: 0.9545 - val_loss: 0.0381 - val_acc: 0.9865\n",
      "Epoch 5/30\n",
      "Epoch 1/30\n",
      "1931/200 - 5s - loss: 0.0134 - acc: 0.9912\n",
      "200/200 - 77s - loss: 0.1361 - acc: 0.9573 - val_loss: 0.0243 - val_acc: 0.9912\n",
      "Epoch 6/30\n",
      "Epoch 1/30\n",
      "1931/200 - 5s - loss: 0.0187 - acc: 0.9902\n",
      "200/200 - 81s - loss: 0.1301 - acc: 0.9627 - val_loss: 0.0300 - val_acc: 0.9902\n",
      "Epoch 7/30\n",
      "Epoch 1/30\n",
      "1931/200 - 5s - loss: 0.0283 - acc: 0.9917\n",
      "200/200 - 80s - loss: 0.1116 - acc: 0.9661 - val_loss: 0.0296 - val_acc: 0.9917\n",
      "Epoch 8/30\n",
      "Epoch 1/30\n",
      "1931/200 - 5s - loss: 0.0159 - acc: 0.9922\n",
      "200/200 - 81s - loss: 0.1090 - acc: 0.9688 - val_loss: 0.0309 - val_acc: 0.9922\n",
      "Epoch 9/30\n",
      "Epoch 1/30\n",
      "1931/200 - 5s - loss: 0.0132 - acc: 0.9943\n",
      "200/200 - 78s - loss: 0.1020 - acc: 0.9692 - val_loss: 0.0182 - val_acc: 0.9943\n",
      "Epoch 10/30\n",
      "Epoch 1/30\n",
      "1931/200 - 5s - loss: 0.0326 - acc: 0.9927\n",
      "200/200 - 76s - loss: 0.0983 - acc: 0.9703 - val_loss: 0.0182 - val_acc: 0.9927\n",
      "Epoch 11/30\n",
      "Epoch 1/30\n",
      "1931/200 - 5s - loss: 0.0097 - acc: 0.9938\n",
      "200/200 - 91s - loss: 0.0988 - acc: 0.9720 - val_loss: 0.0169 - val_acc: 0.9938\n",
      "Epoch 12/30\n",
      "Epoch 1/30\n",
      "1931/200 - 5s - loss: 0.0110 - acc: 0.9943\n",
      "200/200 - 76s - loss: 0.0861 - acc: 0.9768 - val_loss: 0.0192 - val_acc: 0.9943\n",
      "Epoch 13/30\n",
      "Epoch 1/30\n",
      "1931/200 - 5s - loss: 0.0077 - acc: 0.9943\n",
      "200/200 - 78s - loss: 0.0989 - acc: 0.9724 - val_loss: 0.0139 - val_acc: 0.9943\n",
      "Epoch 14/30\n",
      "Epoch 1/30\n",
      "1931/200 - 5s - loss: 0.0165 - acc: 0.9891\n",
      "200/200 - 76s - loss: 0.0823 - acc: 0.9741 - val_loss: 0.0305 - val_acc: 0.9891\n",
      "Epoch 15/30\n",
      "Epoch 1/30\n",
      "1931/200 - 5s - loss: 0.0120 - acc: 0.9896\n",
      "200/200 - 78s - loss: 0.0907 - acc: 0.9749 - val_loss: 0.0224 - val_acc: 0.9896\n",
      "Epoch 16/30\n",
      "Epoch 1/30\n",
      "1931/200 - 5s - loss: 0.0071 - acc: 0.9948\n",
      "200/200 - 76s - loss: 0.0908 - acc: 0.9717 - val_loss: 0.0136 - val_acc: 0.9948\n",
      "Epoch 17/30\n",
      "Epoch 1/30\n",
      "1931/200 - 5s - loss: 0.0102 - acc: 0.9917\n",
      "200/200 - 75s - loss: 0.0841 - acc: 0.9759 - val_loss: 0.0201 - val_acc: 0.9917\n",
      "Epoch 18/30\n",
      "Epoch 1/30\n",
      "1931/200 - 5s - loss: 0.0094 - acc: 0.9948\n",
      "200/200 - 77s - loss: 0.0877 - acc: 0.9765 - val_loss: 0.0168 - val_acc: 0.9948\n",
      "Epoch 19/30\n",
      "Epoch 1/30\n",
      "1931/200 - 5s - loss: 0.0103 - acc: 0.9959\n",
      "200/200 - 76s - loss: 0.0866 - acc: 0.9760 - val_loss: 0.0181 - val_acc: 0.9959\n",
      "Epoch 20/30\n",
      "Epoch 1/30\n",
      "1931/200 - 5s - loss: 0.0169 - acc: 0.9964\n",
      "200/200 - 76s - loss: 0.0741 - acc: 0.9802 - val_loss: 0.0136 - val_acc: 0.9964\n",
      "Epoch 21/30\n",
      "Epoch 1/30\n",
      "1931/200 - 5s - loss: 0.0126 - acc: 0.9907\n",
      "200/200 - 75s - loss: 0.0745 - acc: 0.9778 - val_loss: 0.0246 - val_acc: 0.9907\n",
      "Epoch 22/30\n",
      "Epoch 1/30\n",
      "1931/200 - 5s - loss: 0.0088 - acc: 0.9959\n",
      "200/200 - 76s - loss: 0.0810 - acc: 0.9792 - val_loss: 0.0137 - val_acc: 0.9959\n",
      "Epoch 23/30\n",
      "Epoch 1/30\n",
      "1931/200 - 5s - loss: 0.0161 - acc: 0.9902\n",
      "200/200 - 76s - loss: 0.0738 - acc: 0.9828 - val_loss: 0.0315 - val_acc: 0.9902\n",
      "Epoch 24/30\n",
      "Epoch 1/30\n",
      "1931/200 - 5s - loss: 0.0134 - acc: 0.9938\n",
      "200/200 - 75s - loss: 0.0730 - acc: 0.9785 - val_loss: 0.0250 - val_acc: 0.9938\n",
      "Epoch 25/30\n",
      "Epoch 1/30\n",
      "1931/200 - 5s - loss: 0.0084 - acc: 0.9969\n",
      "200/200 - 77s - loss: 0.0824 - acc: 0.9795 - val_loss: 0.0158 - val_acc: 0.9969\n",
      "Epoch 26/30\n",
      "Epoch 1/30\n",
      "1931/200 - 5s - loss: 0.0092 - acc: 0.9948\n",
      "200/200 - 76s - loss: 0.0730 - acc: 0.9823 - val_loss: 0.0172 - val_acc: 0.9948\n",
      "Epoch 27/30\n",
      "Epoch 1/30\n",
      "1931/200 - 5s - loss: 0.0098 - acc: 0.9943\n",
      "200/200 - 77s - loss: 0.0726 - acc: 0.9804 - val_loss: 0.0180 - val_acc: 0.9943\n",
      "Epoch 28/30\n",
      "Epoch 1/30\n",
      "1931/200 - 5s - loss: 0.0102 - acc: 0.9943\n",
      "200/200 - 77s - loss: 0.0843 - acc: 0.9806 - val_loss: 0.0187 - val_acc: 0.9943\n",
      "Epoch 29/30\n",
      "Epoch 1/30\n",
      "1931/200 - 5s - loss: 0.0052 - acc: 0.9974\n",
      "200/200 - 78s - loss: 0.0763 - acc: 0.9799 - val_loss: 0.0084 - val_acc: 0.9974\n",
      "Epoch 30/30\n",
      "Epoch 1/30\n",
      "1931/200 - 5s - loss: 0.0084 - acc: 0.9959\n",
      "200/200 - 78s - loss: 0.0781 - acc: 0.9809 - val_loss: 0.0127 - val_acc: 0.9959\n"
     ]
    }
   ],
   "source": [
    "optimizer = RMSprop(lr=0.001, rho=0.9, epsilon = 1e-08, decay=0.0)\n",
    "model.compile(optimizer=optimizer,loss='categorical_crossentropy',metrics=['accuracy'])\n",
    "\n",
    "#Fit the model\n",
    "\n",
    "history = model.fit(datagen.flow(train_X, train_y, batch_size=32),\n",
    "                              epochs = 30, validation_data = (valid_X, valid_y),\n",
    "                              verbose = 2, steps_per_epoch= 200)"
   ]
  },
  {
   "cell_type": "code",
   "execution_count": 10,
   "metadata": {},
   "outputs": [
    {
     "name": "stdout",
     "output_type": "stream",
     "text": [
      "Test Score =  0.007207506613835939\n",
      "Test Accuracy = 0.996063\n"
     ]
    }
   ],
   "source": [
    "score = model.evaluate(test_X, test_y, verbose=0)\n",
    "print('Test Score = ',score[0])\n",
    "print('Test Accuracy =', score[1])"
   ]
  },
  {
   "cell_type": "code",
   "execution_count": 11,
   "metadata": {},
   "outputs": [],
   "source": [
    "model.save('model.h5')"
   ]
  },
  {
   "cell_type": "code",
   "execution_count": null,
   "metadata": {},
   "outputs": [],
   "source": []
  }
 ],
 "metadata": {
  "kernelspec": {
   "display_name": "conda_amazonei_tensorflow_p36",
   "language": "python",
   "name": "conda_amazonei_tensorflow_p36"
  },
  "language_info": {
   "codemirror_mode": {
    "name": "ipython",
    "version": 3
   },
   "file_extension": ".py",
   "mimetype": "text/x-python",
   "name": "python",
   "nbconvert_exporter": "python",
   "pygments_lexer": "ipython3",
   "version": "3.6.10"
  }
 },
 "nbformat": 4,
 "nbformat_minor": 4
}
